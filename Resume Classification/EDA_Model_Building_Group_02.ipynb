{
 "cells": [
  {
   "cell_type": "markdown",
   "id": "e553c653",
   "metadata": {},
   "source": [
    "# Project 150– Resume Classification by Group 2"
   ]
  },
  {
   "cell_type": "code",
   "execution_count": 1,
   "id": "d712c087",
   "metadata": {},
   "outputs": [],
   "source": [
    "#installing texttract to extract text from documents\n",
    "#!pip install textract"
   ]
  },
  {
   "cell_type": "code",
   "execution_count": 2,
   "id": "61d4a044",
   "metadata": {},
   "outputs": [
    {
     "name": "stderr",
     "output_type": "stream",
     "text": [
      "[nltk_data] Downloading package stopwords to\n",
      "[nltk_data]     C:\\Users\\Hp\\AppData\\Roaming\\nltk_data...\n",
      "[nltk_data]   Package stopwords is already up-to-date!\n"
     ]
    }
   ],
   "source": [
    "#importing libraries\n",
    "import nltk  \n",
    "nltk.download('stopwords') \n",
    "from nltk.corpus import stopwords \n",
    "import re\n",
    "import numpy as np\n",
    "import os\n",
    "import textract as tr\n",
    "import pandas as pd\n",
    "import seaborn as sns\n",
    "import matplotlib.pyplot as plt\n",
    "%matplotlib inline\n",
    "import string"
   ]
  },
  {
   "cell_type": "markdown",
   "id": "b04b2696",
   "metadata": {},
   "source": [
    "# Extracting data from the resumes"
   ]
  },
  {
   "cell_type": "code",
   "execution_count": 3,
   "id": "114407d5",
   "metadata": {},
   "outputs": [],
   "source": [
    "file_path = r\"C:\\Users\\Hp\\Desktop\\P2\\Resumes\"\n",
    "extracted_data = []\n",
    "software_names = []\n",
    "def extract_data(file_path):\n",
    "    for file in os.listdir(file_path):\n",
    "        if file == 'Reactjs developer':\n",
    "            final = os.path.join(file_path, file)\n",
    "            for data in os.listdir(final):\n",
    "                if data.endswith('.docx') :\n",
    "                    final_path = os.path.join(final, data)\n",
    "                    extracted_data.append((tr.process(final_path)).decode('utf-8'))\n",
    "                    software_names.append(file)\n",
    "        elif file == 'Peoplesoft resumes':\n",
    "            final = os.path.join(file_path, file)\n",
    "            for data in os.listdir(final) :\n",
    "                if data.endswith('.docx') :\n",
    "                    final_path = os.path.join(final, data)\n",
    "                    extracted_data.append((tr.process(final_path)).decode('utf-8'))\n",
    "                    software_names.append(file)\n",
    "        elif file == 'SQL Developer Lightning insight' :\n",
    "            final = os.path.join(file_path, file)\n",
    "            for data in os.listdir(final) :\n",
    "                final_path = os.path.join(final, data)\n",
    "                extracted_data.append((tr.process(final_path)).decode('utf-8'))\n",
    "                software_names.append(file)\n",
    "        elif file == 'workday resumes':\n",
    "            final = os.path.join(file_path, file)\n",
    "            for data in os.listdir(final) :\n",
    "                final_path = os.path.join(final, data)\n",
    "                extracted_data.append((tr.process(final_path)).decode('utf-8'))\n",
    "                software_names.append(file)"
   ]
  },
  {
   "cell_type": "code",
   "execution_count": 4,
   "id": "1f55c136",
   "metadata": {},
   "outputs": [],
   "source": [
    "extract_data(file_path)\n"
   ]
  },
  {
   "cell_type": "code",
   "execution_count": 5,
   "id": "813efa83",
   "metadata": {},
   "outputs": [
    {
     "data": {
      "text/plain": [
       "79"
      ]
     },
     "execution_count": 5,
     "metadata": {},
     "output_type": "execute_result"
    }
   ],
   "source": [
    "len(extracted_data)"
   ]
  },
  {
   "cell_type": "code",
   "execution_count": 6,
   "id": "852d0ba4",
   "metadata": {},
   "outputs": [],
   "source": [
    "data = pd.DataFrame()\n",
    "data['resumes'] = extracted_data\n",
    "data['category'] = software_names"
   ]
  },
  {
   "cell_type": "code",
   "execution_count": 7,
   "id": "dd3d7d1a",
   "metadata": {},
   "outputs": [
    {
     "data": {
      "text/plain": [
       "pandas.core.frame.DataFrame"
      ]
     },
     "execution_count": 7,
     "metadata": {},
     "output_type": "execute_result"
    }
   ],
   "source": [
    "type(data)"
   ]
  },
  {
   "cell_type": "code",
   "execution_count": 8,
   "id": "21147335",
   "metadata": {},
   "outputs": [
    {
     "data": {
      "text/plain": [
       "array(['Peoplesoft resumes', 'Reactjs developer',\n",
       "       'SQL Developer Lightning insight', 'workday resumes'], dtype=object)"
      ]
     },
     "execution_count": 8,
     "metadata": {},
     "output_type": "execute_result"
    }
   ],
   "source": [
    "data['category'].unique()"
   ]
  },
  {
   "cell_type": "code",
   "execution_count": 9,
   "id": "e852d348",
   "metadata": {},
   "outputs": [],
   "source": [
    "df1 = data.copy()"
   ]
  },
  {
   "cell_type": "code",
   "execution_count": 11,
   "id": "7630166e",
   "metadata": {},
   "outputs": [
    {
     "data": {
      "text/plain": [
       "pandas.core.frame.DataFrame"
      ]
     },
     "execution_count": 11,
     "metadata": {},
     "output_type": "execute_result"
    }
   ],
   "source": [
    "type(df1)"
   ]
  },
  {
   "cell_type": "markdown",
   "id": "4974dc99",
   "metadata": {},
   "source": [
    "# EXPLORATORY DATA ANALYSIS"
   ]
  },
  {
   "cell_type": "code",
   "execution_count": 11,
   "id": "be7e0b55",
   "metadata": {},
   "outputs": [
    {
     "name": "stdout",
     "output_type": "stream",
     "text": [
      "<class 'pandas.core.frame.DataFrame'>\n",
      "RangeIndex: 79 entries, 0 to 78\n",
      "Data columns (total 2 columns):\n",
      " #   Column    Non-Null Count  Dtype \n",
      "---  ------    --------------  ----- \n",
      " 0   resumes   79 non-null     object\n",
      " 1   category  79 non-null     object\n",
      "dtypes: object(2)\n",
      "memory usage: 1.4+ KB\n"
     ]
    }
   ],
   "source": [
    "df1.info()"
   ]
  },
  {
   "cell_type": "code",
   "execution_count": 12,
   "id": "afdf9aee",
   "metadata": {},
   "outputs": [
    {
     "data": {
      "text/plain": [
       "(79, 2)"
      ]
     },
     "execution_count": 12,
     "metadata": {},
     "output_type": "execute_result"
    }
   ],
   "source": [
    "df1.shape"
   ]
  },
  {
   "cell_type": "code",
   "execution_count": 13,
   "id": "b594b7d6",
   "metadata": {},
   "outputs": [
    {
     "data": {
      "text/plain": [
       "resumes     0\n",
       "category    0\n",
       "dtype: int64"
      ]
     },
     "execution_count": 13,
     "metadata": {},
     "output_type": "execute_result"
    }
   ],
   "source": [
    "df1.isnull().sum()"
   ]
  },
  {
   "cell_type": "code",
   "execution_count": 70,
   "id": "7e510561",
   "metadata": {},
   "outputs": [
    {
     "name": "stderr",
     "output_type": "stream",
     "text": [
      "[nltk_data] Error loading omw-1.4: <urlopen error [Errno 11001]\n",
      "[nltk_data]     getaddrinfo failed>\n"
     ]
    },
    {
     "data": {
      "text/plain": [
       "False"
      ]
     },
     "execution_count": 70,
     "metadata": {},
     "output_type": "execute_result"
    }
   ],
   "source": [
    "import nltk\n",
    "nltk.download('omw-1.4')"
   ]
  },
  {
   "cell_type": "code",
   "execution_count": 12,
   "id": "56b46732",
   "metadata": {},
   "outputs": [
    {
     "name": "stderr",
     "output_type": "stream",
     "text": [
      "[nltk_data] Downloading package wordnet to\n",
      "[nltk_data]     C:\\Users\\Hp\\AppData\\Roaming\\nltk_data...\n",
      "[nltk_data]   Package wordnet is already up-to-date!\n"
     ]
    },
    {
     "data": {
      "text/plain": [
       "True"
      ]
     },
     "execution_count": 12,
     "metadata": {},
     "output_type": "execute_result"
    }
   ],
   "source": [
    "import string\n",
    "from nltk.tokenize import RegexpTokenizer\n",
    "from nltk.stem import WordNetLemmatizer,PorterStemmer\n",
    "from nltk.corpus import stopwords\n",
    "lemmatizer = WordNetLemmatizer()\n",
    "stemmer = PorterStemmer() \n",
    "nltk.download('wordnet')"
   ]
  },
  {
   "cell_type": "code",
   "execution_count": 16,
   "id": "27060774",
   "metadata": {},
   "outputs": [],
   "source": [
    "#Creating a function to perform all the necessary actions on the crude data.\n",
    "\n",
    "def preprocess(sentence):\n",
    "    sentence=str(sentence)\n",
    "    sentence = sentence.lower() #Converted every letter to lowercase.\n",
    "    sentence=sentence.replace('{html}',\"\") #Removing {html}.\n",
    "    cleanr = re.compile('<.*?>') #removed the symbols.\n",
    "    cleantext = re.sub(cleanr, '', sentence) #replacing preexisted ones with new curated string (regex method)\n",
    "    rem_url=re.sub(r'http\\S+', '',cleantext) #removing the mentioned symbols and replacing the old string with new string(regex)\n",
    "    rem_num = re.sub('[0-9]+', '', rem_url) #removing the mentioned symbols and replacing the old string with new string(regex)\n",
    "    tokenizer = RegexpTokenizer(r'\\w+') #we are using RegexpTokenizer to extract the stream of tokens with the help of regular expressions.\n",
    "    tokens = tokenizer.tokenize(rem_num) #tokenizing using RegexpTokenizer.\n",
    "    filtered_words = [w for w in tokens if len(w) > 2 if not w in stopwords.words('english')] #Removing the stop words.\n",
    "    stem_words=[stemmer.stem(w) for w in filtered_words] #Stemming the words using porter stemmer.\n",
    "    lemma_words=[lemmatizer.lemmatize(w) for w in stem_words] #Lemmatizing the words using lemmatizer.\n",
    "    return \" \".join(filtered_words) # Joining back the filtered words.\n",
    "\n",
    "df1['resumes']=data.resumes.apply(lambda x: preprocess(x))"
   ]
  },
  {
   "cell_type": "code",
   "execution_count": 17,
   "id": "710f6779",
   "metadata": {},
   "outputs": [],
   "source": [
    "# By creating a function which performs all the required actions on the uncurated data and gives the final clean output."
   ]
  },
  {
   "cell_type": "code",
   "execution_count": 18,
   "id": "be87d059",
   "metadata": {},
   "outputs": [
    {
     "data": {
      "text/html": [
       "<div>\n",
       "<style scoped>\n",
       "    .dataframe tbody tr th:only-of-type {\n",
       "        vertical-align: middle;\n",
       "    }\n",
       "\n",
       "    .dataframe tbody tr th {\n",
       "        vertical-align: top;\n",
       "    }\n",
       "\n",
       "    .dataframe thead th {\n",
       "        text-align: right;\n",
       "    }\n",
       "</style>\n",
       "<table border=\"1\" class=\"dataframe\">\n",
       "  <thead>\n",
       "    <tr style=\"text-align: right;\">\n",
       "      <th></th>\n",
       "      <th>resumes</th>\n",
       "      <th>category</th>\n",
       "    </tr>\n",
       "  </thead>\n",
       "  <tbody>\n",
       "    <tr>\n",
       "      <th>0</th>\n",
       "      <td>anubhav kumar singh core competencies scriptin...</td>\n",
       "      <td>Peoplesoft resumes</td>\n",
       "    </tr>\n",
       "    <tr>\n",
       "      <th>1</th>\n",
       "      <td>ananda rayudu ananda rayudu profile summary ye...</td>\n",
       "      <td>Peoplesoft resumes</td>\n",
       "    </tr>\n",
       "    <tr>\n",
       "      <th>2</th>\n",
       "      <td>peoplesoft database administrator gangareddy p...</td>\n",
       "      <td>Peoplesoft resumes</td>\n",
       "    </tr>\n",
       "    <tr>\n",
       "      <th>3</th>\n",
       "      <td>classification internal classification interna...</td>\n",
       "      <td>Peoplesoft resumes</td>\n",
       "    </tr>\n",
       "    <tr>\n",
       "      <th>4</th>\n",
       "      <td>priyanka ramadoss mountpleasant coonoor nilgir...</td>\n",
       "      <td>Peoplesoft resumes</td>\n",
       "    </tr>\n",
       "    <tr>\n",
       "      <th>...</th>\n",
       "      <td>...</td>\n",
       "      <td>...</td>\n",
       "    </tr>\n",
       "    <tr>\n",
       "      <th>74</th>\n",
       "      <td>workday integration consultant name sri krishn...</td>\n",
       "      <td>workday resumes</td>\n",
       "    </tr>\n",
       "    <tr>\n",
       "      <th>75</th>\n",
       "      <td>srikanth workday hcm consultant seeking suitab...</td>\n",
       "      <td>workday resumes</td>\n",
       "    </tr>\n",
       "    <tr>\n",
       "      <th>76</th>\n",
       "      <td>workday hcm fcm name kumar role workday consul...</td>\n",
       "      <td>workday resumes</td>\n",
       "    </tr>\n",
       "    <tr>\n",
       "      <th>77</th>\n",
       "      <td>venkateswarlu workday consultant professional ...</td>\n",
       "      <td>workday resumes</td>\n",
       "    </tr>\n",
       "    <tr>\n",
       "      <th>78</th>\n",
       "      <td>vinay kumar workday functional consultant expe...</td>\n",
       "      <td>workday resumes</td>\n",
       "    </tr>\n",
       "  </tbody>\n",
       "</table>\n",
       "<p>79 rows × 2 columns</p>\n",
       "</div>"
      ],
      "text/plain": [
       "                                              resumes            category\n",
       "0   anubhav kumar singh core competencies scriptin...  Peoplesoft resumes\n",
       "1   ananda rayudu ananda rayudu profile summary ye...  Peoplesoft resumes\n",
       "2   peoplesoft database administrator gangareddy p...  Peoplesoft resumes\n",
       "3   classification internal classification interna...  Peoplesoft resumes\n",
       "4   priyanka ramadoss mountpleasant coonoor nilgir...  Peoplesoft resumes\n",
       "..                                                ...                 ...\n",
       "74  workday integration consultant name sri krishn...     workday resumes\n",
       "75  srikanth workday hcm consultant seeking suitab...     workday resumes\n",
       "76  workday hcm fcm name kumar role workday consul...     workday resumes\n",
       "77  venkateswarlu workday consultant professional ...     workday resumes\n",
       "78  vinay kumar workday functional consultant expe...     workday resumes\n",
       "\n",
       "[79 rows x 2 columns]"
      ]
     },
     "execution_count": 18,
     "metadata": {},
     "output_type": "execute_result"
    }
   ],
   "source": [
    "df1 #Cleaned data "
   ]
  },
  {
   "cell_type": "code",
   "execution_count": 19,
   "id": "e7ae3873",
   "metadata": {},
   "outputs": [
    {
     "data": {
      "text/html": [
       "<div>\n",
       "<style scoped>\n",
       "    .dataframe tbody tr th:only-of-type {\n",
       "        vertical-align: middle;\n",
       "    }\n",
       "\n",
       "    .dataframe tbody tr th {\n",
       "        vertical-align: top;\n",
       "    }\n",
       "\n",
       "    .dataframe thead th {\n",
       "        text-align: right;\n",
       "    }\n",
       "</style>\n",
       "<table border=\"1\" class=\"dataframe\">\n",
       "  <thead>\n",
       "    <tr style=\"text-align: right;\">\n",
       "      <th></th>\n",
       "      <th>resumes</th>\n",
       "      <th>category</th>\n",
       "    </tr>\n",
       "  </thead>\n",
       "  <tbody>\n",
       "    <tr>\n",
       "      <th>0</th>\n",
       "      <td>anubhav kumar singh core competencies scriptin...</td>\n",
       "      <td>Peoplesoft resumes</td>\n",
       "    </tr>\n",
       "    <tr>\n",
       "      <th>1</th>\n",
       "      <td>ananda rayudu ananda rayudu profile summary ye...</td>\n",
       "      <td>Peoplesoft resumes</td>\n",
       "    </tr>\n",
       "    <tr>\n",
       "      <th>2</th>\n",
       "      <td>peoplesoft database administrator gangareddy p...</td>\n",
       "      <td>Peoplesoft resumes</td>\n",
       "    </tr>\n",
       "    <tr>\n",
       "      <th>3</th>\n",
       "      <td>classification internal classification interna...</td>\n",
       "      <td>Peoplesoft resumes</td>\n",
       "    </tr>\n",
       "    <tr>\n",
       "      <th>4</th>\n",
       "      <td>priyanka ramadoss mountpleasant coonoor nilgir...</td>\n",
       "      <td>Peoplesoft resumes</td>\n",
       "    </tr>\n",
       "  </tbody>\n",
       "</table>\n",
       "</div>"
      ],
      "text/plain": [
       "                                             resumes            category\n",
       "0  anubhav kumar singh core competencies scriptin...  Peoplesoft resumes\n",
       "1  ananda rayudu ananda rayudu profile summary ye...  Peoplesoft resumes\n",
       "2  peoplesoft database administrator gangareddy p...  Peoplesoft resumes\n",
       "3  classification internal classification interna...  Peoplesoft resumes\n",
       "4  priyanka ramadoss mountpleasant coonoor nilgir...  Peoplesoft resumes"
      ]
     },
     "execution_count": 19,
     "metadata": {},
     "output_type": "execute_result"
    }
   ],
   "source": [
    "df1.head() #First five columns of the cleaned data."
   ]
  },
  {
   "cell_type": "code",
   "execution_count": 20,
   "id": "d159da33",
   "metadata": {},
   "outputs": [
    {
     "data": {
      "text/html": [
       "<div>\n",
       "<style scoped>\n",
       "    .dataframe tbody tr th:only-of-type {\n",
       "        vertical-align: middle;\n",
       "    }\n",
       "\n",
       "    .dataframe tbody tr th {\n",
       "        vertical-align: top;\n",
       "    }\n",
       "\n",
       "    .dataframe thead th {\n",
       "        text-align: right;\n",
       "    }\n",
       "</style>\n",
       "<table border=\"1\" class=\"dataframe\">\n",
       "  <thead>\n",
       "    <tr style=\"text-align: right;\">\n",
       "      <th></th>\n",
       "      <th>resumes</th>\n",
       "      <th>category</th>\n",
       "    </tr>\n",
       "  </thead>\n",
       "  <tbody>\n",
       "    <tr>\n",
       "      <th>74</th>\n",
       "      <td>workday integration consultant name sri krishn...</td>\n",
       "      <td>workday resumes</td>\n",
       "    </tr>\n",
       "    <tr>\n",
       "      <th>75</th>\n",
       "      <td>srikanth workday hcm consultant seeking suitab...</td>\n",
       "      <td>workday resumes</td>\n",
       "    </tr>\n",
       "    <tr>\n",
       "      <th>76</th>\n",
       "      <td>workday hcm fcm name kumar role workday consul...</td>\n",
       "      <td>workday resumes</td>\n",
       "    </tr>\n",
       "    <tr>\n",
       "      <th>77</th>\n",
       "      <td>venkateswarlu workday consultant professional ...</td>\n",
       "      <td>workday resumes</td>\n",
       "    </tr>\n",
       "    <tr>\n",
       "      <th>78</th>\n",
       "      <td>vinay kumar workday functional consultant expe...</td>\n",
       "      <td>workday resumes</td>\n",
       "    </tr>\n",
       "  </tbody>\n",
       "</table>\n",
       "</div>"
      ],
      "text/plain": [
       "                                              resumes         category\n",
       "74  workday integration consultant name sri krishn...  workday resumes\n",
       "75  srikanth workday hcm consultant seeking suitab...  workday resumes\n",
       "76  workday hcm fcm name kumar role workday consul...  workday resumes\n",
       "77  venkateswarlu workday consultant professional ...  workday resumes\n",
       "78  vinay kumar workday functional consultant expe...  workday resumes"
      ]
     },
     "execution_count": 20,
     "metadata": {},
     "output_type": "execute_result"
    }
   ],
   "source": [
    "df1.tail() #Last five columns of the cleaned data."
   ]
  },
  {
   "cell_type": "code",
   "execution_count": 21,
   "id": "d6f57daf",
   "metadata": {},
   "outputs": [
    {
     "name": "stderr",
     "output_type": "stream",
     "text": [
      "[nltk_data] Error loading punkt: <urlopen error [Errno 11001]\n",
      "[nltk_data]     getaddrinfo failed>\n"
     ]
    },
    {
     "data": {
      "text/plain": [
       "False"
      ]
     },
     "execution_count": 21,
     "metadata": {},
     "output_type": "execute_result"
    }
   ],
   "source": [
    "#Importing nltk and downloading punkt.\n",
    "import nltk\n",
    "nltk.download('punkt')"
   ]
  },
  {
   "cell_type": "code",
   "execution_count": 22,
   "id": "b3dd0e8e",
   "metadata": {},
   "outputs": [
    {
     "name": "stdout",
     "output_type": "stream",
     "text": [
      "[('experience', 600), ('peoplesoft', 453), ('workday', 432), ('application', 418), ('using', 395), ('server', 360), ('data', 332), ('project', 327), ('reports', 326), ('sql', 281), ('business', 273), ('web', 251), ('database', 243), ('process', 236), ('worked', 220), ('knowledge', 216), ('client', 197), ('system', 192), ('involved', 191), ('tools', 190), ('integrations', 189), ('integration', 183), ('hcm', 182), ('like', 180), ('support', 178), ('skills', 173), ('good', 169), ('development', 168), ('team', 166), ('creating', 164), ('technical', 164), ('working', 162), ('people', 160), ('services', 157), ('report', 155), ('design', 154), ('servers', 152), ('testing', 150), ('created', 150), ('react', 148), ('responsibilities', 147), ('various', 146), ('oracle', 142), ('role', 142), ('developer', 141), ('environment', 139), ('management', 136), ('security', 134), ('eib', 134), ('production', 133)]\n"
     ]
    }
   ],
   "source": [
    "#Data Exploration\n",
    "\n",
    "#Removing the stopwords and counting the important words and appending them together.\n",
    "#Naming that variable as the mostcommon.\n",
    "\n",
    "\n",
    "oneSetOfStopWords = set(stopwords.words('english')+['``',\"''\"])\n",
    "totalWords =[]\n",
    "Sentences = data['resumes'].values\n",
    "cleanedSentences = \"\"\n",
    "\n",
    "for records in Sentences:\n",
    "    cleanedText = preprocess(records)\n",
    "    cleanedSentences += cleanedText\n",
    "    requiredWords = nltk.word_tokenize(cleanedText)\n",
    "    for word in requiredWords:\n",
    "        if word not in oneSetOfStopWords and word not in string.punctuation:\n",
    "            totalWords.append(word)\n",
    "    \n",
    "wordfreqdist = nltk.FreqDist(totalWords)\n",
    "mostcommon = wordfreqdist.most_common(50)\n",
    "print(mostcommon)\n"
   ]
  },
  {
   "cell_type": "code",
   "execution_count": 23,
   "id": "db3d06dc",
   "metadata": {},
   "outputs": [],
   "source": [
    "#WordCloud is a graphic representation of words in which the words are arranged artistically \n",
    "#in close proximity and the size of each word's type is proportional to the word's frequency.\n"
   ]
  },
  {
   "cell_type": "code",
   "execution_count": 24,
   "id": "11c3ab7d",
   "metadata": {},
   "outputs": [
    {
     "data": {
      "image/png": "[encoded data removed]",
      "text/plain": [
       "<Figure size 720x720 with 1 Axes>"
      ]
     },
     "metadata": {
      "needs_background": "light"
     },
     "output_type": "display_data"
    }
   ],
   "source": [
    "from wordcloud import WordCloud  #Importing the WordCloud.\n",
    "\n",
    "#Generating the Word Cloud from the cleaned sentences.\n",
    "\n",
    "wc = WordCloud().generate(cleanedSentences)\n",
    "plt.figure(figsize=(10,10))\n",
    "plt.imshow(wc, interpolation='bilinear')\n",
    "plt.axis(\"off\")\n",
    "plt.show()"
   ]
  },
  {
   "cell_type": "code",
   "execution_count": 25,
   "id": "5260a68e",
   "metadata": {},
   "outputs": [
    {
     "name": "stdout",
     "output_type": "stream",
     "text": [
      "Displaying the distinct categories of resume and the number of records belonging to each category:\n",
      "\n",
      "\n",
      "Reactjs developer                  24\n",
      "workday resumes                    21\n",
      "Peoplesoft resumes                 20\n",
      "SQL Developer Lightning insight    14\n",
      "Name: category, dtype: int64\n"
     ]
    }
   ],
   "source": [
    "print (\"Displaying the distinct categories of resume and the number of records belonging to each category:\\n\\n\")\n",
    "print (df1['category'].value_counts())"
   ]
  },
  {
   "cell_type": "code",
   "execution_count": 26,
   "id": "4d196528",
   "metadata": {},
   "outputs": [
    {
     "data": {
      "image/png": "[encoded data removed]",
      "text/plain": [
       "<Figure size 720x432 with 1 Axes>"
      ]
     },
     "metadata": {
      "needs_background": "light"
     },
     "output_type": "display_data"
    }
   ],
   "source": [
    "#Count Plot\n",
    "\n",
    "plt.figure(figsize=(10,6))\n",
    "plt.xticks(rotation=90)\n",
    "ax=sns.countplot(x=\"category\", data=df1)\n",
    "for p in ax.patches:\n",
    "    ax.annotate(str(p.get_height()), (p.get_x() * 1.01 , p.get_height() * 1.01))\n",
    "plt.grid()"
   ]
  },
  {
   "cell_type": "code",
   "execution_count": 27,
   "id": "c7b285b0",
   "metadata": {},
   "outputs": [],
   "source": [
    "# From the above plot we can find that the highest number of resumes are from ReactJs developer\n",
    "#and lowest are from SQL Developer Lighting Insight."
   ]
  },
  {
   "cell_type": "code",
   "execution_count": 28,
   "id": "2cacdf1a",
   "metadata": {},
   "outputs": [
    {
     "data": {
      "image/png": "[encoded data removed]",
      "text/plain": [
       "<Figure size 1440x720 with 1 Axes>"
      ]
     },
     "metadata": {},
     "output_type": "display_data"
    }
   ],
   "source": [
    "#Pie Chart\n",
    "\n",
    "plt.figure(figsize=(20,10))\n",
    "data['category'].value_counts().plot(kind='pie',autopct='%1.0f%%')\n",
    "plt.show()"
   ]
  },
  {
   "cell_type": "code",
   "execution_count": 29,
   "id": "f775a0f6",
   "metadata": {},
   "outputs": [],
   "source": [
    "#From the above pie chart the four categories are divided as percentages out of 100%"
   ]
  },
  {
   "cell_type": "code",
   "execution_count": 30,
   "id": "c136f812",
   "metadata": {},
   "outputs": [
    {
     "name": "stderr",
     "output_type": "stream",
     "text": [
      "C:\\Users\\Hp\\anaconda3\\lib\\site-packages\\seaborn\\_decorators.py:36: FutureWarning: Pass the following variables as keyword args: x, y. From version 0.12, the only valid positional argument will be `data`, and passing other arguments without an explicit keyword will result in an error or misinterpretation.\n",
      "  warnings.warn(\n"
     ]
    },
    {
     "data": {
      "image/png": "[encoded data removed]",
      "text/plain": [
       "<Figure size 1440x720 with 1 Axes>"
      ]
     },
     "metadata": {
      "needs_background": "light"
     },
     "output_type": "display_data"
    }
   ],
   "source": [
    "from six import text_type\n",
    "\n",
    "x=data['category'].value_counts()\n",
    "plt.figure(figsize=(20,10))\n",
    "sns.barplot(x.index,x.values)\n",
    "plt.title('Result Distribution ')\n",
    "plt.ylabel('Frequency', fontsize=10)\n",
    "plt.yticks(fontsize=10)\n",
    "plt.xlabel('Resume CLassifiers', fontsize=10)\n",
    "plt.xticks(fontsize=10)\n",
    "plt.show()"
   ]
  },
  {
   "cell_type": "markdown",
   "id": "42272939",
   "metadata": {},
   "source": [
    "# Encoding Category"
   ]
  },
  {
   "cell_type": "code",
   "execution_count": 31,
   "id": "86d59a98",
   "metadata": {},
   "outputs": [],
   "source": [
    "from sklearn import preprocessing\n",
    "from sklearn.preprocessing import LabelEncoder\n",
    "le = preprocessing.LabelEncoder()"
   ]
  },
  {
   "cell_type": "code",
   "execution_count": 32,
   "id": "fc35624c",
   "metadata": {},
   "outputs": [],
   "source": [
    "var_mod = ['category']\n",
    "le = LabelEncoder()\n",
    " \n",
    "for i in var_mod:\n",
    "    df1[i] = le.fit_transform(df1[i])"
   ]
  },
  {
   "cell_type": "code",
   "execution_count": 33,
   "id": "afed2efe",
   "metadata": {},
   "outputs": [
    {
     "data": {
      "text/html": [
       "<div>\n",
       "<style scoped>\n",
       "    .dataframe tbody tr th:only-of-type {\n",
       "        vertical-align: middle;\n",
       "    }\n",
       "\n",
       "    .dataframe tbody tr th {\n",
       "        vertical-align: top;\n",
       "    }\n",
       "\n",
       "    .dataframe thead th {\n",
       "        text-align: right;\n",
       "    }\n",
       "</style>\n",
       "<table border=\"1\" class=\"dataframe\">\n",
       "  <thead>\n",
       "    <tr style=\"text-align: right;\">\n",
       "      <th></th>\n",
       "      <th>resumes</th>\n",
       "      <th>category</th>\n",
       "    </tr>\n",
       "  </thead>\n",
       "  <tbody>\n",
       "    <tr>\n",
       "      <th>0</th>\n",
       "      <td>anubhav kumar singh core competencies scriptin...</td>\n",
       "      <td>0</td>\n",
       "    </tr>\n",
       "    <tr>\n",
       "      <th>1</th>\n",
       "      <td>ananda rayudu ananda rayudu profile summary ye...</td>\n",
       "      <td>0</td>\n",
       "    </tr>\n",
       "    <tr>\n",
       "      <th>2</th>\n",
       "      <td>peoplesoft database administrator gangareddy p...</td>\n",
       "      <td>0</td>\n",
       "    </tr>\n",
       "    <tr>\n",
       "      <th>3</th>\n",
       "      <td>classification internal classification interna...</td>\n",
       "      <td>0</td>\n",
       "    </tr>\n",
       "    <tr>\n",
       "      <th>4</th>\n",
       "      <td>priyanka ramadoss mountpleasant coonoor nilgir...</td>\n",
       "      <td>0</td>\n",
       "    </tr>\n",
       "    <tr>\n",
       "      <th>...</th>\n",
       "      <td>...</td>\n",
       "      <td>...</td>\n",
       "    </tr>\n",
       "    <tr>\n",
       "      <th>74</th>\n",
       "      <td>workday integration consultant name sri krishn...</td>\n",
       "      <td>3</td>\n",
       "    </tr>\n",
       "    <tr>\n",
       "      <th>75</th>\n",
       "      <td>srikanth workday hcm consultant seeking suitab...</td>\n",
       "      <td>3</td>\n",
       "    </tr>\n",
       "    <tr>\n",
       "      <th>76</th>\n",
       "      <td>workday hcm fcm name kumar role workday consul...</td>\n",
       "      <td>3</td>\n",
       "    </tr>\n",
       "    <tr>\n",
       "      <th>77</th>\n",
       "      <td>venkateswarlu workday consultant professional ...</td>\n",
       "      <td>3</td>\n",
       "    </tr>\n",
       "    <tr>\n",
       "      <th>78</th>\n",
       "      <td>vinay kumar workday functional consultant expe...</td>\n",
       "      <td>3</td>\n",
       "    </tr>\n",
       "  </tbody>\n",
       "</table>\n",
       "<p>79 rows × 2 columns</p>\n",
       "</div>"
      ],
      "text/plain": [
       "                                              resumes  category\n",
       "0   anubhav kumar singh core competencies scriptin...         0\n",
       "1   ananda rayudu ananda rayudu profile summary ye...         0\n",
       "2   peoplesoft database administrator gangareddy p...         0\n",
       "3   classification internal classification interna...         0\n",
       "4   priyanka ramadoss mountpleasant coonoor nilgir...         0\n",
       "..                                                ...       ...\n",
       "74  workday integration consultant name sri krishn...         3\n",
       "75  srikanth workday hcm consultant seeking suitab...         3\n",
       "76  workday hcm fcm name kumar role workday consul...         3\n",
       "77  venkateswarlu workday consultant professional ...         3\n",
       "78  vinay kumar workday functional consultant expe...         3\n",
       "\n",
       "[79 rows x 2 columns]"
      ]
     },
     "execution_count": 33,
     "metadata": {},
     "output_type": "execute_result"
    }
   ],
   "source": [
    "df1"
   ]
  },
  {
   "cell_type": "code",
   "execution_count": 34,
   "id": "4669403f",
   "metadata": {},
   "outputs": [],
   "source": [
    "from sklearn.feature_extraction.text import TfidfVectorizer\n",
    "from sklearn.model_selection import train_test_split"
   ]
  },
  {
   "cell_type": "code",
   "execution_count": 35,
   "id": "88e4899f",
   "metadata": {},
   "outputs": [],
   "source": [
    "requiredText = df1['resumes'].values\n",
    "requiredTarget = df1['category'].values\n",
    "\n",
    "word_vectorizer = TfidfVectorizer(\n",
    "    sublinear_tf=True,\n",
    "    stop_words='english')\n",
    "tfidf=word_vectorizer.fit(requiredText)\n",
    "WordFeatures = word_vectorizer.transform(requiredText)"
   ]
  },
  {
   "cell_type": "markdown",
   "id": "d8b8ea1e",
   "metadata": {},
   "source": [
    "# Train-Test Splitting"
   ]
  },
  {
   "cell_type": "code",
   "execution_count": 36,
   "id": "c7f3e918",
   "metadata": {},
   "outputs": [
    {
     "name": "stdout",
     "output_type": "stream",
     "text": [
      "(63, 4348)\n",
      "(16, 4348)\n"
     ]
    }
   ],
   "source": [
    "x_train,x_test,y_train,y_test = train_test_split(WordFeatures,requiredTarget,random_state=15, test_size=0.2)\n",
    "\n",
    "print(x_train.shape)\n",
    "print(x_test.shape)"
   ]
  },
  {
   "cell_type": "markdown",
   "id": "33d0b2f6",
   "metadata": {},
   "source": [
    "# OnevsRest Classifier"
   ]
  },
  {
   "cell_type": "code",
   "execution_count": 37,
   "id": "4f6ffe3f",
   "metadata": {},
   "outputs": [],
   "source": [
    "import sklearn\n",
    "from sklearn.neighbors import KNeighborsClassifier\n",
    "from sklearn.multiclass import OneVsRestClassifier\n",
    "model = sklearn.neighbors.KNeighborsClassifier(n_neighbors=5) \n",
    "import sklearn.metrics as metrics"
   ]
  },
  {
   "cell_type": "code",
   "execution_count": 38,
   "id": "cafaf83c",
   "metadata": {},
   "outputs": [
    {
     "data": {
      "text/plain": [
       "array([1, 1, 3, 3, 3, 3, 2, 0, 3, 1, 2, 3, 3, 0, 0, 3])"
      ]
     },
     "execution_count": 38,
     "metadata": {},
     "output_type": "execute_result"
    }
   ],
   "source": [
    "clf = OneVsRestClassifier(KNeighborsClassifier())\n",
    "clf.fit(x_train, y_train)\n",
    "prediction = clf.predict(x_test)\n",
    "prediction"
   ]
  },
  {
   "cell_type": "code",
   "execution_count": 39,
   "id": "62b33054",
   "metadata": {},
   "outputs": [
    {
     "name": "stdout",
     "output_type": "stream",
     "text": [
      "Accuracy of KNeighbors Classifier on training set: 1.00\n",
      "Accuracy of KNeighbors Classifier on test set: 1.00\n"
     ]
    }
   ],
   "source": [
    "print('Accuracy of KNeighbors Classifier on training set: {:.2f}'.format(clf.score(x_train, y_train)))\n",
    "print('Accuracy of KNeighbors Classifier on test set: {:.2f}'.format(clf.score(x_test, y_test)))"
   ]
  },
  {
   "cell_type": "code",
   "execution_count": 40,
   "id": "04c24ca3",
   "metadata": {},
   "outputs": [
    {
     "name": "stdout",
     "output_type": "stream",
     "text": [
      "              precision    recall  f1-score   support\n",
      "\n",
      "           0       1.00      1.00      1.00         3\n",
      "           1       1.00      1.00      1.00         3\n",
      "           2       1.00      1.00      1.00         2\n",
      "           3       1.00      1.00      1.00         8\n",
      "\n",
      "    accuracy                           1.00        16\n",
      "   macro avg       1.00      1.00      1.00        16\n",
      "weighted avg       1.00      1.00      1.00        16\n",
      "\n"
     ]
    }
   ],
   "source": [
    "print(metrics.classification_report(y_test, prediction))"
   ]
  },
  {
   "cell_type": "code",
   "execution_count": 41,
   "id": "f51f1bd8",
   "metadata": {},
   "outputs": [
    {
     "data": {
      "text/plain": [
       "array(['Peoplesoft resumes', 'Reactjs developer',\n",
       "       'SQL Developer Lightning insight', 'workday resumes'], dtype=object)"
      ]
     },
     "execution_count": 41,
     "metadata": {},
     "output_type": "execute_result"
    }
   ],
   "source": [
    "le.classes_"
   ]
  },
  {
   "cell_type": "markdown",
   "id": "763527e0",
   "metadata": {},
   "source": [
    "# Naive-Bayes Classifier"
   ]
  },
  {
   "cell_type": "code",
   "execution_count": 42,
   "id": "23df8edf",
   "metadata": {},
   "outputs": [],
   "source": [
    "from sklearn.naive_bayes import MultinomialNB\n",
    "Mmodel=MultinomialNB()"
   ]
  },
  {
   "cell_type": "code",
   "execution_count": 43,
   "id": "9a734009",
   "metadata": {},
   "outputs": [],
   "source": [
    "clf = OneVsRestClassifier(MultinomialNB()).fit(x_train, y_train)\n",
    "prediction = clf.predict(x_test)"
   ]
  },
  {
   "cell_type": "code",
   "execution_count": 44,
   "id": "e9e3f0b6",
   "metadata": {
    "scrolled": true
   },
   "outputs": [
    {
     "name": "stdout",
     "output_type": "stream",
     "text": [
      "Accuracy of MultinomialNB Classifier on training set: 1.00\n",
      "Accuracy of MultinomialNB Classifier on test set: 0.88\n"
     ]
    }
   ],
   "source": [
    "print('Accuracy of MultinomialNB Classifier on training set: {:.2f}'.format(clf.score(x_train, y_train)))\n",
    "print('Accuracy of MultinomialNB Classifier on test set: {:.2f}'.format(clf.score(x_test, y_test)))"
   ]
  },
  {
   "cell_type": "markdown",
   "id": "c8dbe0f0",
   "metadata": {},
   "source": [
    "# ADA Boost Classifier"
   ]
  },
  {
   "cell_type": "code",
   "execution_count": 45,
   "id": "b5a9a20d",
   "metadata": {},
   "outputs": [],
   "source": [
    "from sklearn.ensemble import AdaBoostClassifier\n",
    "from sklearn.metrics import accuracy_score\n",
    "from sklearn.metrics import classification_report,confusion_matrix,accuracy_score"
   ]
  },
  {
   "cell_type": "code",
   "execution_count": 46,
   "id": "048bff70",
   "metadata": {},
   "outputs": [],
   "source": [
    "ada = AdaBoostClassifier(n_estimators=20 ,learning_rate=0.01)"
   ]
  },
  {
   "cell_type": "code",
   "execution_count": 47,
   "id": "b5290111",
   "metadata": {},
   "outputs": [],
   "source": [
    "ABoost=ada.fit(x_train,y_train)\n",
    "\n",
    "prediction9=ABoost.predict(x_test)\n",
    "prediction10=ABoost.predict(x_train)"
   ]
  },
  {
   "cell_type": "code",
   "execution_count": 48,
   "id": "35524fc5",
   "metadata": {},
   "outputs": [
    {
     "name": "stdout",
     "output_type": "stream",
     "text": [
      "Accuracy of the model on train data:  1.0\n",
      "              precision    recall  f1-score   support\n",
      "\n",
      "           0       1.00      1.00      1.00        17\n",
      "           1       1.00      1.00      1.00        21\n",
      "           2       1.00      1.00      1.00        12\n",
      "           3       1.00      1.00      1.00        13\n",
      "\n",
      "    accuracy                           1.00        63\n",
      "   macro avg       1.00      1.00      1.00        63\n",
      "weighted avg       1.00      1.00      1.00        63\n",
      "\n",
      "[[17  0  0  0]\n",
      " [ 0 21  0  0]\n",
      " [ 0  0 12  0]\n",
      " [ 0  0  0 13]]\n",
      "Accuracy of the model on test data:  0.8125\n",
      "              precision    recall  f1-score   support\n",
      "\n",
      "           0       0.50      1.00      0.67         3\n",
      "           1       1.00      1.00      1.00         3\n",
      "           2       1.00      1.00      1.00         2\n",
      "           3       1.00      0.62      0.77         8\n",
      "\n",
      "    accuracy                           0.81        16\n",
      "   macro avg       0.88      0.91      0.86        16\n",
      "weighted avg       0.91      0.81      0.82        16\n",
      "\n",
      "[[3 0 0 0]\n",
      " [0 3 0 0]\n",
      " [0 0 2 0]\n",
      " [3 0 0 5]]\n"
     ]
    }
   ],
   "source": [
    "print(\"Accuracy of the model on train data: \", accuracy_score(y_train, prediction10))\n",
    "print(classification_report(y_train, prediction10))\n",
    "print(confusion_matrix(y_train, prediction10))\n",
    "\n",
    "print(\"Accuracy of the model on test data: \", accuracy_score(y_test, prediction9))\n",
    "print(classification_report(y_test, prediction9))\n",
    "print(confusion_matrix(y_test, prediction9))"
   ]
  },
  {
   "cell_type": "markdown",
   "id": "48043c26",
   "metadata": {},
   "source": [
    "# Logistic Regression"
   ]
  },
  {
   "cell_type": "code",
   "execution_count": 49,
   "id": "3e9c3f3a",
   "metadata": {},
   "outputs": [
    {
     "data": {
      "text/plain": [
       "LogisticRegression()"
      ]
     },
     "execution_count": 49,
     "metadata": {},
     "output_type": "execute_result"
    }
   ],
   "source": [
    "from sklearn.linear_model import LogisticRegression\n",
    "from sklearn.metrics import confusion_matrix,accuracy_score,classification_report\n",
    "model = LogisticRegression()\n",
    "model.fit(x_train,y_train)"
   ]
  },
  {
   "cell_type": "code",
   "execution_count": 50,
   "id": "51d310d3",
   "metadata": {},
   "outputs": [],
   "source": [
    "y_pred = model.predict(x_test)"
   ]
  },
  {
   "cell_type": "code",
   "execution_count": 51,
   "id": "c85b2417",
   "metadata": {},
   "outputs": [
    {
     "data": {
      "text/plain": [
       "array([[2, 1, 0, 0],\n",
       "       [0, 3, 0, 0],\n",
       "       [0, 2, 0, 0],\n",
       "       [0, 0, 0, 8]], dtype=int64)"
      ]
     },
     "execution_count": 51,
     "metadata": {},
     "output_type": "execute_result"
    }
   ],
   "source": [
    "cm = confusion_matrix(y_test,y_pred)\n",
    "cm"
   ]
  },
  {
   "cell_type": "code",
   "execution_count": 52,
   "id": "d8b18fd1",
   "metadata": {},
   "outputs": [
    {
     "data": {
      "text/plain": [
       "0.8125"
      ]
     },
     "execution_count": 52,
     "metadata": {},
     "output_type": "execute_result"
    }
   ],
   "source": [
    "accuracy_score(y_test,y_pred)"
   ]
  },
  {
   "cell_type": "code",
   "execution_count": 53,
   "id": "186548b7",
   "metadata": {
    "scrolled": true
   },
   "outputs": [],
   "source": [
    "prediction3=model.predict(x_test)\n",
    "prediction4=model.predict(x_train)"
   ]
  },
  {
   "cell_type": "code",
   "execution_count": 54,
   "id": "975b4d70",
   "metadata": {},
   "outputs": [
    {
     "name": "stdout",
     "output_type": "stream",
     "text": [
      "Accuracy of model on train data:  1.0\n",
      "              precision    recall  f1-score   support\n",
      "\n",
      "           0       1.00      1.00      1.00        17\n",
      "           1       1.00      1.00      1.00        21\n",
      "           2       1.00      1.00      1.00        12\n",
      "           3       1.00      1.00      1.00        13\n",
      "\n",
      "    accuracy                           1.00        63\n",
      "   macro avg       1.00      1.00      1.00        63\n",
      "weighted avg       1.00      1.00      1.00        63\n",
      "\n",
      "[[17  0  0  0]\n",
      " [ 0 21  0  0]\n",
      " [ 0  0 12  0]\n",
      " [ 0  0  0 13]]\n",
      "Accuracy of model on test data:  0.8125\n",
      "              precision    recall  f1-score   support\n",
      "\n",
      "           0       1.00      0.67      0.80         3\n",
      "           1       0.50      1.00      0.67         3\n",
      "           2       0.00      0.00      0.00         2\n",
      "           3       1.00      1.00      1.00         8\n",
      "\n",
      "    accuracy                           0.81        16\n",
      "   macro avg       0.62      0.67      0.62        16\n",
      "weighted avg       0.78      0.81      0.78        16\n",
      "\n",
      "[[2 1 0 0]\n",
      " [0 3 0 0]\n",
      " [0 2 0 0]\n",
      " [0 0 0 8]]\n"
     ]
    },
    {
     "name": "stderr",
     "output_type": "stream",
     "text": [
      "C:\\Users\\Hp\\anaconda3\\lib\\site-packages\\sklearn\\metrics\\_classification.py:1318: UndefinedMetricWarning: Precision and F-score are ill-defined and being set to 0.0 in labels with no predicted samples. Use `zero_division` parameter to control this behavior.\n",
      "  _warn_prf(average, modifier, msg_start, len(result))\n",
      "C:\\Users\\Hp\\anaconda3\\lib\\site-packages\\sklearn\\metrics\\_classification.py:1318: UndefinedMetricWarning: Precision and F-score are ill-defined and being set to 0.0 in labels with no predicted samples. Use `zero_division` parameter to control this behavior.\n",
      "  _warn_prf(average, modifier, msg_start, len(result))\n",
      "C:\\Users\\Hp\\anaconda3\\lib\\site-packages\\sklearn\\metrics\\_classification.py:1318: UndefinedMetricWarning: Precision and F-score are ill-defined and being set to 0.0 in labels with no predicted samples. Use `zero_division` parameter to control this behavior.\n",
      "  _warn_prf(average, modifier, msg_start, len(result))\n"
     ]
    }
   ],
   "source": [
    "print(\"Accuracy of model on train data: \", accuracy_score(y_train, prediction4))\n",
    "print(classification_report(y_train, prediction4))\n",
    "print(confusion_matrix(y_train, prediction4))\n",
    "\n",
    "print(\"Accuracy of model on test data: \", accuracy_score(y_test, prediction3))\n",
    "print(classification_report(y_test, prediction3))\n",
    "print(confusion_matrix(y_test, prediction3))"
   ]
  },
  {
   "cell_type": "markdown",
   "id": "db3be0e5",
   "metadata": {},
   "source": [
    "# Decision Tree Classifier"
   ]
  },
  {
   "cell_type": "code",
   "execution_count": 55,
   "id": "8b7d4971",
   "metadata": {},
   "outputs": [],
   "source": [
    "from sklearn.tree import  DecisionTreeClassifier\n",
    "from sklearn.ensemble import RandomForestClassifier\n",
    "from sklearn import tree"
   ]
  },
  {
   "cell_type": "code",
   "execution_count": 56,
   "id": "792dd232",
   "metadata": {},
   "outputs": [],
   "source": [
    "DC= tree.DecisionTreeClassifier(max_depth=20,criterion='gini')\n",
    "DecTree=DC.fit(x_train,y_train)"
   ]
  },
  {
   "cell_type": "code",
   "execution_count": 57,
   "id": "e8af9fa6",
   "metadata": {},
   "outputs": [],
   "source": [
    "prediction5=DecTree.predict(x_test)\n",
    "prediction6=DecTree.predict(x_train)"
   ]
  },
  {
   "cell_type": "code",
   "execution_count": 58,
   "id": "f0567048",
   "metadata": {},
   "outputs": [
    {
     "name": "stdout",
     "output_type": "stream",
     "text": [
      "Accuracy of model on train data:  1.0\n",
      "              precision    recall  f1-score   support\n",
      "\n",
      "           0       1.00      1.00      1.00        17\n",
      "           1       1.00      1.00      1.00        21\n",
      "           2       1.00      1.00      1.00        12\n",
      "           3       1.00      1.00      1.00        13\n",
      "\n",
      "    accuracy                           1.00        63\n",
      "   macro avg       1.00      1.00      1.00        63\n",
      "weighted avg       1.00      1.00      1.00        63\n",
      "\n",
      "[[17  0  0  0]\n",
      " [ 0 21  0  0]\n",
      " [ 0  0 12  0]\n",
      " [ 0  0  0 13]]\n",
      "Accuracy of model on test data:  0.75\n",
      "              precision    recall  f1-score   support\n",
      "\n",
      "           0       0.50      1.00      0.67         3\n",
      "           1       0.75      1.00      0.86         3\n",
      "           2       1.00      1.00      1.00         2\n",
      "           3       1.00      0.50      0.67         8\n",
      "\n",
      "    accuracy                           0.75        16\n",
      "   macro avg       0.81      0.88      0.80        16\n",
      "weighted avg       0.86      0.75      0.74        16\n",
      "\n",
      "[[3 0 0 0]\n",
      " [0 3 0 0]\n",
      " [0 0 2 0]\n",
      " [3 1 0 4]]\n"
     ]
    }
   ],
   "source": [
    "print(\"Accuracy of model on train data: \", accuracy_score(y_train, prediction6))\n",
    "print(classification_report(y_train, prediction6))\n",
    "print(confusion_matrix(y_train, prediction6))\n",
    "\n",
    "print(\"Accuracy of model on test data: \", accuracy_score(y_test, prediction5))\n",
    "print(classification_report(y_test, prediction5))\n",
    "print(confusion_matrix(y_test, prediction5))"
   ]
  },
  {
   "cell_type": "markdown",
   "id": "c63cc33c",
   "metadata": {},
   "source": [
    "# Random Forest Classifier"
   ]
  },
  {
   "cell_type": "code",
   "execution_count": 59,
   "id": "e03a0b16",
   "metadata": {},
   "outputs": [
    {
     "data": {
      "text/plain": [
       "RandomForestClassifier()"
      ]
     },
     "execution_count": 59,
     "metadata": {},
     "output_type": "execute_result"
    }
   ],
   "source": [
    "modelrF= RandomForestClassifier( )\n",
    "modelrF.fit(x_train,y_train)"
   ]
  },
  {
   "cell_type": "code",
   "execution_count": 60,
   "id": "fcc99a85",
   "metadata": {},
   "outputs": [],
   "source": [
    "prediction7=modelrF.predict(x_test)\n",
    "prediction8=modelrF.predict(x_train)"
   ]
  },
  {
   "cell_type": "code",
   "execution_count": 61,
   "id": "62be140d",
   "metadata": {},
   "outputs": [
    {
     "name": "stdout",
     "output_type": "stream",
     "text": [
      "ACCURACY OF THE MODEL on train data:  1.0\n",
      "              precision    recall  f1-score   support\n",
      "\n",
      "           0       1.00      1.00      1.00        17\n",
      "           1       1.00      1.00      1.00        21\n",
      "           2       1.00      1.00      1.00        12\n",
      "           3       1.00      1.00      1.00        13\n",
      "\n",
      "    accuracy                           1.00        63\n",
      "   macro avg       1.00      1.00      1.00        63\n",
      "weighted avg       1.00      1.00      1.00        63\n",
      "\n",
      "[[17  0  0  0]\n",
      " [ 0 21  0  0]\n",
      " [ 0  0 12  0]\n",
      " [ 0  0  0 13]]\n",
      "ACCURACY OF THE MODEL on test data:  0.9375\n",
      "              precision    recall  f1-score   support\n",
      "\n",
      "           0       1.00      0.67      0.80         3\n",
      "           1       0.75      1.00      0.86         3\n",
      "           2       1.00      1.00      1.00         2\n",
      "           3       1.00      1.00      1.00         8\n",
      "\n",
      "    accuracy                           0.94        16\n",
      "   macro avg       0.94      0.92      0.91        16\n",
      "weighted avg       0.95      0.94      0.94        16\n",
      "\n",
      "[[2 1 0 0]\n",
      " [0 3 0 0]\n",
      " [0 0 2 0]\n",
      " [0 0 0 8]]\n"
     ]
    }
   ],
   "source": [
    "print(\"ACCURACY OF THE MODEL on train data: \", accuracy_score(y_train, prediction8))\n",
    "print(classification_report(y_train, prediction8))\n",
    "print(confusion_matrix(y_train, prediction8))\n",
    "\n",
    "print(\"ACCURACY OF THE MODEL on test data: \", accuracy_score(y_test, prediction7))\n",
    "print(classification_report(y_test, prediction7))\n",
    "print(confusion_matrix(y_test, prediction7))"
   ]
  },
  {
   "cell_type": "markdown",
   "id": "74c790a7",
   "metadata": {},
   "source": [
    "# GradientBoosting Classifier"
   ]
  },
  {
   "cell_type": "code",
   "execution_count": 62,
   "id": "b38f47ea",
   "metadata": {},
   "outputs": [],
   "source": [
    "from sklearn.ensemble import GradientBoostingClassifier"
   ]
  },
  {
   "cell_type": "code",
   "execution_count": 63,
   "id": "3ff6745f",
   "metadata": {},
   "outputs": [],
   "source": [
    "GBC = GradientBoostingClassifier(n_estimators=20 ,learning_rate=0.01)"
   ]
  },
  {
   "cell_type": "code",
   "execution_count": 64,
   "id": "93b6b922",
   "metadata": {},
   "outputs": [],
   "source": [
    "GB=GBC.fit(x_train,y_train)\n",
    "\n",
    "prediction11=GB.predict(x_test)\n",
    "prediction12=GB.predict(x_train)"
   ]
  },
  {
   "cell_type": "code",
   "execution_count": 65,
   "id": "e8fb95f4",
   "metadata": {},
   "outputs": [
    {
     "name": "stdout",
     "output_type": "stream",
     "text": [
      "ACCURACY OF THE MODEL on train data:  1.0\n",
      "              precision    recall  f1-score   support\n",
      "\n",
      "           0       1.00      1.00      1.00        17\n",
      "           1       1.00      1.00      1.00        21\n",
      "           2       1.00      1.00      1.00        12\n",
      "           3       1.00      1.00      1.00        13\n",
      "\n",
      "    accuracy                           1.00        63\n",
      "   macro avg       1.00      1.00      1.00        63\n",
      "weighted avg       1.00      1.00      1.00        63\n",
      "\n",
      "[[17  0  0  0]\n",
      " [ 0 21  0  0]\n",
      " [ 0  0 12  0]\n",
      " [ 0  0  0 13]]\n",
      "ACCURACY OF THE MODEL on test data:  0.6875\n",
      "              precision    recall  f1-score   support\n",
      "\n",
      "           0       0.50      1.00      0.67         3\n",
      "           1       0.60      1.00      0.75         3\n",
      "           2       1.00      0.50      0.67         2\n",
      "           3       1.00      0.50      0.67         8\n",
      "\n",
      "    accuracy                           0.69        16\n",
      "   macro avg       0.78      0.75      0.69        16\n",
      "weighted avg       0.83      0.69      0.68        16\n",
      "\n",
      "[[3 0 0 0]\n",
      " [0 3 0 0]\n",
      " [0 1 1 0]\n",
      " [3 1 0 4]]\n"
     ]
    }
   ],
   "source": [
    "print(\"ACCURACY OF THE MODEL on train data: \", accuracy_score(y_train, prediction12))\n",
    "print(classification_report(y_train, prediction12))\n",
    "print(confusion_matrix(y_train, prediction12))\n",
    "\n",
    "print(\"ACCURACY OF THE MODEL on test data: \", accuracy_score(y_test, prediction11))\n",
    "print(classification_report(y_test, prediction11))\n",
    "print(confusion_matrix(y_test, prediction11))"
   ]
  },
  {
   "cell_type": "code",
   "execution_count": 67,
   "id": "c45dd171",
   "metadata": {},
   "outputs": [
    {
     "name": "stdout",
     "output_type": "stream",
     "text": [
      "Collecting python-docxNote: you may need to restart the kernel to use updated packages.\n",
      "  Downloading python-docx-0.8.11.tar.gz (5.6 MB)\n",
      "Requirement already satisfied: lxml>=2.3.2 in c:\\users\\hp\\anaconda3\\lib\\site-packages (from python-docx) (4.8.0)\n",
      "Building wheels for collected packages: python-docx\n",
      "  Building wheel for python-docx (setup.py): started\n",
      "  Building wheel for python-docx (setup.py): finished with status 'done'\n",
      "  Created wheel for python-docx: filename=python_docx-0.8.11-py3-none-any.whl size=184507 sha256=77cb5a23536d53e094c71990761c547303c59d9076a6df9aea35f5a51b10137e\n",
      "  Stored in directory: c:\\users\\hp\\appdata\\local\\pip\\cache\\wheels\\83\\8b\\7c\\09ae60c42c7ba4ed2dddaf2b8b9186cb105255856d6ed3dba5\n",
      "Successfully built python-docx\n",
      "Installing collected packages: python-docx\n",
      "Successfully installed python-docx-0.8.11\n",
      "\n"
     ]
    }
   ],
   "source": [
    "pip install python-docx"
   ]
  },
  {
   "cell_type": "code",
   "execution_count": 68,
   "id": "24495751",
   "metadata": {},
   "outputs": [
    {
     "name": "stdout",
     "output_type": "stream",
     "text": [
      "Collecting pdfplumberNote: you may need to restart the kernel to use updated packages.\n"
     ]
    },
    {
     "name": "stderr",
     "output_type": "stream",
     "text": [
      "ERROR: pip's dependency resolver does not currently take into account all the packages that are installed. This behaviour is the source of the following dependency conflicts.\n",
      "textract 1.6.5 requires pdfminer.six==20191110, but you have pdfminer-six 20220524 which is incompatible.\n"
     ]
    },
    {
     "name": "stdout",
     "output_type": "stream",
     "text": [
      "\n",
      "  Downloading pdfplumber-0.7.4-py3-none-any.whl (40 kB)\n",
      "Collecting pdfminer.six==20220524\n",
      "  Downloading pdfminer.six-20220524-py3-none-any.whl (5.6 MB)\n",
      "Collecting Pillow>=9.1\n",
      "  Using cached Pillow-9.2.0-cp39-cp39-win_amd64.whl (3.3 MB)\n",
      "Collecting Wand>=0.6.7\n",
      "  Downloading Wand-0.6.10-py2.py3-none-any.whl (142 kB)\n",
      "Collecting cryptography>=36.0.0\n",
      "  Downloading cryptography-38.0.1-cp36-abi3-win_amd64.whl (2.4 MB)\n",
      "Requirement already satisfied: charset-normalizer>=2.0.0 in c:\\users\\hp\\anaconda3\\lib\\site-packages (from pdfminer.six==20220524->pdfplumber) (2.0.4)\n",
      "Requirement already satisfied: cffi>=1.12 in c:\\users\\hp\\anaconda3\\lib\\site-packages (from cryptography>=36.0.0->pdfminer.six==20220524->pdfplumber) (1.15.0)\n",
      "Requirement already satisfied: pycparser in c:\\users\\hp\\anaconda3\\lib\\site-packages (from cffi>=1.12->cryptography>=36.0.0->pdfminer.six==20220524->pdfplumber) (2.21)\n",
      "Installing collected packages: cryptography, Wand, Pillow, pdfminer.six, pdfplumber\n",
      "  Attempting uninstall: cryptography\n",
      "    Found existing installation: cryptography 3.4.8\n",
      "    Uninstalling cryptography-3.4.8:\n",
      "      Successfully uninstalled cryptography-3.4.8\n",
      "  Attempting uninstall: Pillow\n",
      "    Found existing installation: Pillow 9.0.1\n",
      "    Uninstalling Pillow-9.0.1:\n",
      "      Successfully uninstalled Pillow-9.0.1\n",
      "  Attempting uninstall: pdfminer.six\n",
      "    Found existing installation: pdfminer.six 20191110\n",
      "    Uninstalling pdfminer.six-20191110:\n",
      "      Successfully uninstalled pdfminer.six-20191110\n",
      "Successfully installed Pillow-9.2.0 Wand-0.6.10 cryptography-38.0.1 pdfminer.six-20220524 pdfplumber-0.7.4\n"
     ]
    }
   ],
   "source": [
    "pip install pdfplumber"
   ]
  },
  {
   "cell_type": "code",
   "execution_count": null,
   "id": "102f588d",
   "metadata": {},
   "outputs": [],
   "source": []
  }
 ],
 "metadata": {
  "kernelspec": {
   "display_name": "Python 3 (ipykernel)",
   "language": "python",
   "name": "python3"
  },
  "language_info": {
   "codemirror_mode": {
    "name": "ipython",
    "version": 3
   },
   "file_extension": ".py",
   "mimetype": "text/x-python",
   "name": "python",
   "nbconvert_exporter": "python",
   "pygments_lexer": "ipython3",
   "version": "3.9.12"
  }
 },
 "nbformat": 4,
 "nbformat_minor": 5
}
